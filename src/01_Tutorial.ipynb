{
  "nbformat": 4,
  "nbformat_minor": 0,
  "metadata": {
    "colab": {
      "provenance": []
    },
    "kernelspec": {
      "name": "python3",
      "display_name": "Python 3"
    },
    "language_info": {
      "name": "python"
    }
  },
  "cells": [
    {
      "cell_type": "markdown",
      "source": [
        "# Setup"
      ],
      "metadata": {
        "id": "prSlr8mucP8Q"
      }
    },
    {
      "cell_type": "code",
      "source": [
        "!pip install torch torchvision torchinfo -Uq"
      ],
      "metadata": {
        "id": "o8xAn9V_crV4"
      },
      "execution_count": null,
      "outputs": []
    },
    {
      "cell_type": "code",
      "source": [
        "import torch\n",
        "print(torch.__version__)"
      ],
      "metadata": {
        "colab": {
          "base_uri": "https://localhost:8080/"
        },
        "id": "9HP9smIMbWPX",
        "outputId": "8b94eaa3-0ac5-4f9c-8aa1-edaabb1148ab"
      },
      "execution_count": null,
      "outputs": [
        {
          "output_type": "stream",
          "name": "stdout",
          "text": [
            "2.5.1+cu121\n"
          ]
        }
      ]
    },
    {
      "cell_type": "code",
      "execution_count": null,
      "metadata": {
        "colab": {
          "base_uri": "https://localhost:8080/"
        },
        "id": "p2NVyhBa5pSr",
        "outputId": "10c93b6c-e6eb-4abf-ad3b-ac58fd7d9f98"
      },
      "outputs": [
        {
          "output_type": "stream",
          "name": "stdout",
          "text": [
            "tensor([[0.8823, 0.9150, 0.3829],\n",
            "        [0.9593, 0.3904, 0.6009],\n",
            "        [0.2566, 0.7936, 0.9408],\n",
            "        [0.1332, 0.9346, 0.5936],\n",
            "        [0.8694, 0.5677, 0.7411]])\n"
          ]
        }
      ],
      "source": [
        "torch.manual_seed(42)\n",
        "x = torch.rand(5, 3)\n",
        "print(x)"
      ]
    },
    {
      "cell_type": "code",
      "source": [
        "device = \"cuda\" if torch.cuda.is_available() else \"cpu\"\n",
        "print(f\"Using device: {device}\") # 'cuda' or 'cpu'"
      ],
      "metadata": {
        "colab": {
          "base_uri": "https://localhost:8080/"
        },
        "id": "5N3Tdo9V5zbV",
        "outputId": "2cf46413-5a0e-4b4b-8542-6eba2e0e7f57"
      },
      "execution_count": null,
      "outputs": [
        {
          "output_type": "stream",
          "name": "stdout",
          "text": [
            "Using device: cpu\n"
          ]
        }
      ]
    },
    {
      "cell_type": "markdown",
      "source": [
        "# Toy model"
      ],
      "metadata": {
        "id": "yFFZU2decJRz"
      }
    },
    {
      "cell_type": "code",
      "source": [
        "import torch.nn as nn\n",
        "from torchinfo import summary\n",
        "\n",
        "class SimpleNN(nn.Module):\n",
        "    def __init__(self):\n",
        "        super().__init__()\n",
        "        self.fc1 = nn.Linear(2, 4)\n",
        "        self.fc2 = nn.Linear(4, 1)\n",
        "        self.relu = nn.ReLU()\n",
        "        self.sigmoid = nn.Sigmoid()\n",
        "\n",
        "    def forward(self, x):\n",
        "        x = self.relu(self.fc1(x))\n",
        "        x = self.relu(self.fc2(x))\n",
        "        x = self.sigmoid(x)\n",
        "        return x\n",
        "\n",
        "model = SimpleNN()\n",
        "summary(model)"
      ],
      "metadata": {
        "id": "Yl8FyMPg52qU",
        "colab": {
          "base_uri": "https://localhost:8080/"
        },
        "outputId": "7b2093d8-0ac9-4f00-ac58-84cb12d62b33"
      },
      "execution_count": null,
      "outputs": [
        {
          "output_type": "execute_result",
          "data": {
            "text/plain": [
              "=================================================================\n",
              "Layer (type:depth-idx)                   Param #\n",
              "=================================================================\n",
              "SimpleNN                                 --\n",
              "├─Linear: 1-1                            12\n",
              "├─Linear: 1-2                            5\n",
              "├─ReLU: 1-3                              --\n",
              "├─Sigmoid: 1-4                           --\n",
              "=================================================================\n",
              "Total params: 17\n",
              "Trainable params: 17\n",
              "Non-trainable params: 0\n",
              "================================================================="
            ]
          },
          "metadata": {},
          "execution_count": 5
        }
      ]
    },
    {
      "cell_type": "code",
      "source": [
        "# Loss function\n",
        "criterion = nn.BCELoss()\n",
        "\n",
        "# Optimizer\n",
        "optimizer = torch.optim.SGD(model.parameters(), lr=0.01)"
      ],
      "metadata": {
        "id": "VBD2ewd_cabg"
      },
      "execution_count": null,
      "outputs": []
    },
    {
      "cell_type": "code",
      "source": [
        "# Dummy data\n",
        "inputs = torch.tensor([[0.0, 0.0], [1.0, 1.0], [0.0, 1.0], [1.0, 0.0]])\n",
        "labels = torch.tensor([[0.0], [1.0], [1.0], [0.0]])\n",
        "\n",
        "# Training loop\n",
        "epochs = 100\n",
        "for epoch in range(epochs):\n",
        "    # Forward pass\n",
        "    outputs = model(inputs)\n",
        "    loss = criterion(outputs, labels)\n",
        "\n",
        "    # Backward pass\n",
        "    optimizer.zero_grad()\n",
        "    loss.backward()\n",
        "    optimizer.step()\n",
        "\n",
        "    if (epoch + 1) % 10 == 0:\n",
        "        print(f'Epoch [{epoch+1:4d}/{epochs:4d}], Loss: {loss.item():.4f}')"
      ],
      "metadata": {
        "colab": {
          "base_uri": "https://localhost:8080/"
        },
        "id": "CX8mEW7EccIC",
        "outputId": "c1c430ea-17a8-4804-f6ac-1e2991377f90"
      },
      "execution_count": null,
      "outputs": [
        {
          "output_type": "stream",
          "name": "stdout",
          "text": [
            "Epoch [  10/ 100], Loss: 0.6931\n",
            "Epoch [  20/ 100], Loss: 0.6931\n",
            "Epoch [  30/ 100], Loss: 0.6931\n",
            "Epoch [  40/ 100], Loss: 0.6931\n",
            "Epoch [  50/ 100], Loss: 0.6931\n",
            "Epoch [  60/ 100], Loss: 0.6931\n",
            "Epoch [  70/ 100], Loss: 0.6931\n",
            "Epoch [  80/ 100], Loss: 0.6931\n",
            "Epoch [  90/ 100], Loss: 0.6931\n",
            "Epoch [ 100/ 100], Loss: 0.6931\n"
          ]
        }
      ]
    },
    {
      "cell_type": "code",
      "source": [],
      "metadata": {
        "id": "ZOYvLxlXc8re"
      },
      "execution_count": null,
      "outputs": []
    }
  ]
}